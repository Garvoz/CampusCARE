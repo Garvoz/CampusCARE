{
 "cells": [
  {
   "cell_type": "markdown",
   "metadata": {},
   "source": [
    "# **Nettoyage du DataSet 'Student Depression'**"
   ]
  },
  {
   "cell_type": "markdown",
   "metadata": {},
   "source": [
    "**Contexte :** \n",
    "- Cette section traite du nettoyage du dataset pour assurer la qualité des données.\n",
    "- Les valeurs manquantes et incohérentes peuvent altérer les analyses et modèles, d'où leur traitement prioritaire.\n",
    "\n",
    "**Objectif :**\n",
    "- Identifier, comprendre et corriger les anomalies pour garantir des données fiables et prêtes à l'analyse."
   ]
  },
  {
   "cell_type": "markdown",
   "id": "77d44300",
   "metadata": {},
   "source": [
    "### **Importation du DataSet et Informations Générales**"
   ]
  },
  {
   "cell_type": "code",
   "execution_count": 3,
   "metadata": {},
   "outputs": [],
   "source": [
    "import pandas as pd\n",
    "\n",
    "df = pd.read_csv(\"../donnees/brutes/Student Depression Dataset.csv\")\n"
   ]
  },
  {
   "cell_type": "code",
   "execution_count": 4,
   "metadata": {},
   "outputs": [
    {
     "data": {
      "text/html": [
       "<div>\n",
       "<style scoped>\n",
       "    .dataframe tbody tr th:only-of-type {\n",
       "        vertical-align: middle;\n",
       "    }\n",
       "\n",
       "    .dataframe tbody tr th {\n",
       "        vertical-align: top;\n",
       "    }\n",
       "\n",
       "    .dataframe thead th {\n",
       "        text-align: right;\n",
       "    }\n",
       "</style>\n",
       "<table border=\"1\" class=\"dataframe\">\n",
       "  <thead>\n",
       "    <tr style=\"text-align: right;\">\n",
       "      <th></th>\n",
       "      <th>id</th>\n",
       "      <th>Gender</th>\n",
       "      <th>Age</th>\n",
       "      <th>City</th>\n",
       "      <th>Profession</th>\n",
       "      <th>Academic Pressure</th>\n",
       "      <th>Work Pressure</th>\n",
       "      <th>CGPA</th>\n",
       "      <th>Study Satisfaction</th>\n",
       "      <th>Job Satisfaction</th>\n",
       "      <th>Sleep Duration</th>\n",
       "      <th>Dietary Habits</th>\n",
       "      <th>Degree</th>\n",
       "      <th>Have you ever had suicidal thoughts ?</th>\n",
       "      <th>Work/Study Hours</th>\n",
       "      <th>Financial Stress</th>\n",
       "      <th>Family History of Mental Illness</th>\n",
       "      <th>Depression</th>\n",
       "    </tr>\n",
       "  </thead>\n",
       "  <tbody>\n",
       "    <tr>\n",
       "      <th>0</th>\n",
       "      <td>2</td>\n",
       "      <td>Male</td>\n",
       "      <td>33.0</td>\n",
       "      <td>Visakhapatnam</td>\n",
       "      <td>Student</td>\n",
       "      <td>5.0</td>\n",
       "      <td>0.0</td>\n",
       "      <td>8.97</td>\n",
       "      <td>2.0</td>\n",
       "      <td>0.0</td>\n",
       "      <td>5-6 hours</td>\n",
       "      <td>Healthy</td>\n",
       "      <td>B.Pharm</td>\n",
       "      <td>Yes</td>\n",
       "      <td>3.0</td>\n",
       "      <td>1.0</td>\n",
       "      <td>No</td>\n",
       "      <td>1</td>\n",
       "    </tr>\n",
       "  </tbody>\n",
       "</table>\n",
       "</div>"
      ],
      "text/plain": [
       "   id Gender   Age           City Profession  Academic Pressure  \\\n",
       "0   2   Male  33.0  Visakhapatnam    Student                5.0   \n",
       "\n",
       "   Work Pressure  CGPA  Study Satisfaction  Job Satisfaction Sleep Duration  \\\n",
       "0            0.0  8.97                 2.0               0.0      5-6 hours   \n",
       "\n",
       "  Dietary Habits   Degree Have you ever had suicidal thoughts ?  \\\n",
       "0        Healthy  B.Pharm                                   Yes   \n",
       "\n",
       "   Work/Study Hours  Financial Stress Family History of Mental Illness  \\\n",
       "0               3.0               1.0                               No   \n",
       "\n",
       "   Depression  \n",
       "0           1  "
      ]
     },
     "execution_count": 4,
     "metadata": {},
     "output_type": "execute_result"
    }
   ],
   "source": [
    "df.head(1)"
   ]
  },
  {
   "cell_type": "code",
   "execution_count": 5,
   "metadata": {},
   "outputs": [
    {
     "name": "stdout",
     "output_type": "stream",
     "text": [
      "<class 'pandas.core.frame.DataFrame'>\n",
      "RangeIndex: 27901 entries, 0 to 27900\n",
      "Data columns (total 18 columns):\n",
      " #   Column                                 Non-Null Count  Dtype  \n",
      "---  ------                                 --------------  -----  \n",
      " 0   id                                     27901 non-null  int64  \n",
      " 1   Gender                                 27901 non-null  object \n",
      " 2   Age                                    27901 non-null  float64\n",
      " 3   City                                   27901 non-null  object \n",
      " 4   Profession                             27901 non-null  object \n",
      " 5   Academic Pressure                      27901 non-null  float64\n",
      " 6   Work Pressure                          27901 non-null  float64\n",
      " 7   CGPA                                   27901 non-null  float64\n",
      " 8   Study Satisfaction                     27901 non-null  float64\n",
      " 9   Job Satisfaction                       27901 non-null  float64\n",
      " 10  Sleep Duration                         27901 non-null  object \n",
      " 11  Dietary Habits                         27901 non-null  object \n",
      " 12  Degree                                 27901 non-null  object \n",
      " 13  Have you ever had suicidal thoughts ?  27901 non-null  object \n",
      " 14  Work/Study Hours                       27901 non-null  float64\n",
      " 15  Financial Stress                       27898 non-null  float64\n",
      " 16  Family History of Mental Illness       27901 non-null  object \n",
      " 17  Depression                             27901 non-null  int64  \n",
      "dtypes: float64(8), int64(2), object(8)\n",
      "memory usage: 3.8+ MB\n"
     ]
    }
   ],
   "source": [
    "df.info()#3 lignes NaN dans 'Financial Stress', on peut dropper"
   ]
  },
  {
   "cell_type": "code",
   "execution_count": 6,
   "metadata": {},
   "outputs": [],
   "source": [
    "df = df.dropna()"
   ]
  },
  {
   "cell_type": "markdown",
   "metadata": {},
   "source": [
    "### **Description des colonnes du DataSet**\n",
    "\n",
    "- **Academic Pressure** : Pression académique (0 = aucune, 5 = maximum).  \n",
    "- **Work Pressure** : Pression professionnelle (0 = aucune, 5 = maximum).  \n",
    "- **Sleep Duration** : Durée de sommeil.  \n",
    "- **Dietary Habits** : Habitudes alimentaires.  \n",
    "- **Study Satisfaction** : Satisfaction des études (0 = pas satisfait, 5 = très satisfait).  \n",
    "- **Job Satisfaction** : Satisfaction professionnelle (0 = pas satisfait, 5 = très satisfait).  \n",
    "- **Financial Stress** : Stress financier (0 = aucun, 5 = maximum).  \n",
    "- **Family History of Mental Illness** : Antécédent familial de maladie mentale.  \n",
    "- **Dépression** : Niveau de dépression (0 = pas de signes, 1 = présence de signes).  \n",
    "- **CGPA** : Moyenne académique cumulée (échelle de 0 à 10).  \n",
    "   - **9-10** : Excellent.  \n",
    "   - **7-8.9** : Très bon.  \n",
    "   - **5-6.9** : Moyen, nécessite des efforts.  \n",
    "   - **<5** : Faible, nécessitant une attention urgente.  \n",
    "   - Le CGPA peut refléter un stress académique, lié à des performances faibles ou à la pression pour maintenir un haut niveau."
   ]
  },
  {
   "cell_type": "markdown",
   "metadata": {},
   "source": [
    "### **Suppression des colonnes inutiles**"
   ]
  },
  {
   "cell_type": "code",
   "execution_count": 7,
   "metadata": {},
   "outputs": [],
   "source": [
    "# Suppression de la colonne `id`\n",
    "df= df.drop('id', axis = 1)"
   ]
  },
  {
   "cell_type": "code",
   "execution_count": 8,
   "metadata": {},
   "outputs": [],
   "source": [
    "# Colonne 'Work Pressure'\n",
    "df[df['Work Pressure'] == 0] # 27895 lignes valeur 0 > colonne à supprimer\n",
    "\n",
    "# Colonne 'Job Satisfaction'\n",
    "df[df['Job Satisfaction'] == 0] # 27890 lignes valeur 0 > colonne à supprimer\n",
    "\n",
    "# Suppression des colonnes\n",
    "df = df.drop(['Job Satisfaction', 'Work Pressure'], axis = 1)"
   ]
  },
  {
   "cell_type": "code",
   "execution_count": 9,
   "metadata": {},
   "outputs": [],
   "source": [
    "# Colonne 'Student'\n",
    "df = df[df['Profession'] == 'Student'] #27870 lignes = filtrage par Student puis colonne à supprimer\n",
    "df = df.drop('Profession', axis = 1)"
   ]
  },
  {
   "cell_type": "markdown",
   "id": "2891ed78",
   "metadata": {},
   "source": [
    "### **Traduction en Français des valeurs et intitulés de Colonnes**"
   ]
  },
  {
   "cell_type": "markdown",
   "metadata": {},
   "source": [
    "- **Objectif** : Traduire le df en français pour faciliter la lecture et l'analyse"
   ]
  },
  {
   "cell_type": "markdown",
   "metadata": {},
   "source": [
    "#### **Traduction des intitulés de colonnes**"
   ]
  },
  {
   "cell_type": "code",
   "execution_count": 10,
   "metadata": {},
   "outputs": [],
   "source": [
    "#Traduction des colonnes\n",
    "df = df.rename(columns = {'Gender' : 'Genre', 'City' : 'Ville', 'Academic Pressure' : 'Pression Académique', 'Study Satisfaction' : 'Satisfaction Académique', 'Sleep Duration' : 'Temps de sommeil', 'Dietary Habits' : 'Habitudes Alimentaires', \n",
    "       'Have you ever had suicidal thoughts ?' : 'Pensées Suicidaires', 'Work/Study Hours' : 'Temps études/jour(heures)', 'Financial Stress' : 'Stress Financier', 'Family History of Mental Illness' : 'Antécédents familiaux mentaux', 'Depression' : 'Dépression'})\n"
   ]
  },
  {
   "cell_type": "markdown",
   "metadata": {},
   "source": [
    "#### **Définition de la fonction de Traduction des valeurs de Cellule**"
   ]
  },
  {
   "cell_type": "code",
   "execution_count": 11,
   "metadata": {},
   "outputs": [],
   "source": [
    "def traduction(x):\n",
    "    if x == '5-6 hours':\n",
    "        return '5-6 heures'\n",
    "    elif x == '7-8 hours':\n",
    "        return '7-8 heures'\n",
    "    elif x == 'Less than 5 hours':\n",
    "        return 'Moins de 5 heures'\n",
    "    elif x == 'More than 8 hours':\n",
    "        return 'Plus de 8 heures'\n",
    "    elif x == 'Others':\n",
    "        return 'Autre'\n",
    "    elif x == 'Healthy':\n",
    "        return 'Saines'\n",
    "    elif x == 'Moderate':\n",
    "        return 'Modérées'\n",
    "    elif x == 'Unhealthy':\n",
    "        return 'Mauvaises'\n",
    "    elif x == 'Male':\n",
    "        return 'Homme'\n",
    "    elif x == 'Female':\n",
    "        return 'Femme'"
   ]
  },
  {
   "cell_type": "markdown",
   "id": "aff4c6d6",
   "metadata": {},
   "source": [
    "#### **Traduction des Colonnes**"
   ]
  },
  {
   "cell_type": "code",
   "execution_count": 12,
   "metadata": {},
   "outputs": [],
   "source": [
    "# Colonne Genre\n",
    "df['Genre'] = df['Genre'].apply(traduction)"
   ]
  },
  {
   "cell_type": "code",
   "execution_count": 13,
   "metadata": {},
   "outputs": [],
   "source": [
    "# Colonne Temps de Sommeil\n",
    "df['Temps de sommeil'] = df['Temps de sommeil'].apply(traduction)"
   ]
  },
  {
   "cell_type": "code",
   "execution_count": 14,
   "metadata": {},
   "outputs": [],
   "source": [
    "# Colonne Habitudes Alimentaires\n",
    "df['Habitudes Alimentaires'] = df['Habitudes Alimentaires'].apply(traduction)"
   ]
  },
  {
   "cell_type": "markdown",
   "metadata": {},
   "source": [
    "### **Changement de Type**"
   ]
  },
  {
   "cell_type": "markdown",
   "metadata": {},
   "source": [
    "**Objectif :**\n",
    "- S'assurer du bon format des valeurs numériques et textuelles en vue du machine learning et des calculs éventuels sur PowerBI"
   ]
  },
  {
   "cell_type": "code",
   "execution_count": 15,
   "metadata": {},
   "outputs": [
    {
     "name": "stdout",
     "output_type": "stream",
     "text": [
      "<class 'pandas.core.frame.DataFrame'>\n",
      "Index: 27867 entries, 0 to 27900\n",
      "Data columns (total 14 columns):\n",
      " #   Column                         Non-Null Count  Dtype  \n",
      "---  ------                         --------------  -----  \n",
      " 0   Genre                          27867 non-null  object \n",
      " 1   Age                            27867 non-null  float64\n",
      " 2   Ville                          27867 non-null  object \n",
      " 3   Pression Académique            27867 non-null  float64\n",
      " 4   CGPA                           27867 non-null  float64\n",
      " 5   Satisfaction Académique        27867 non-null  float64\n",
      " 6   Temps de sommeil               27867 non-null  object \n",
      " 7   Habitudes Alimentaires         27867 non-null  object \n",
      " 8   Degree                         27867 non-null  object \n",
      " 9   Pensées Suicidaires            27867 non-null  object \n",
      " 10  Temps études/jour(heures)      27867 non-null  float64\n",
      " 11  Stress Financier               27867 non-null  float64\n",
      " 12  Antécédents familiaux mentaux  27867 non-null  object \n",
      " 13  Dépression                     27867 non-null  int64  \n",
      "dtypes: float64(6), int64(1), object(7)\n",
      "memory usage: 3.2+ MB\n"
     ]
    }
   ],
   "source": [
    "df.info()"
   ]
  },
  {
   "cell_type": "code",
   "execution_count": 16,
   "metadata": {},
   "outputs": [],
   "source": [
    "# Colonnes 'Float' à transformer en 'INT'\n",
    "df['Age'] = df['Age'].astype(int)\n",
    "df['Temps études/jour(heures)'] = df['Temps études/jour(heures)'].astype(int)\n",
    "df['Pression Académique'] = df['Pression Académique'].astype(int)\n",
    "df['Satisfaction Académique'] = df['Satisfaction Académique'].astype(int)\n",
    "df['Stress Financier'] = df['Stress Financier'].astype(int)"
   ]
  },
  {
   "cell_type": "markdown",
   "id": "0c3dad04",
   "metadata": {},
   "source": [
    "### **Suppression des lignes inutiles**"
   ]
  },
  {
   "cell_type": "markdown",
   "metadata": {},
   "source": [
    "**Objectif :**\n",
    "- Supprimer les lignes non pertinentes, incomplètes et où les valeurs ne sont pas représentatives."
   ]
  },
  {
   "cell_type": "markdown",
   "metadata": {},
   "source": [
    "#### **Colonne 'Ville'**"
   ]
  },
  {
   "cell_type": "code",
   "execution_count": 17,
   "metadata": {},
   "outputs": [
    {
     "data": {
      "text/plain": [
       "Ville\n",
       "Kalyan                1564\n",
       "Srinagar              1372\n",
       "Hyderabad             1338\n",
       "Vasai-Virar           1289\n",
       "Lucknow               1155\n",
       "Thane                 1139\n",
       "Ludhiana              1109\n",
       "Agra                  1092\n",
       "Surat                 1078\n",
       "Kolkata               1065\n",
       "Jaipur                1034\n",
       "Patna                 1006\n",
       "Visakhapatnam          968\n",
       "Pune                   968\n",
       "Ahmedabad              949\n",
       "Bhopal                 933\n",
       "Chennai                884\n",
       "Meerut                 822\n",
       "Rajkot                 815\n",
       "Delhi                  767\n",
       "Bangalore              766\n",
       "Ghaziabad              744\n",
       "Mumbai                 698\n",
       "Vadodara               693\n",
       "Varanasi               684\n",
       "Nagpur                 651\n",
       "Indore                 643\n",
       "Kanpur                 607\n",
       "Nashik                 547\n",
       "Faridabad              461\n",
       "Saanvi                   2\n",
       "Bhavna                   2\n",
       "City                     2\n",
       "Harsha                   2\n",
       "Kibara                   1\n",
       "Nandini                  1\n",
       "Nalini                   1\n",
       "Mihir                    1\n",
       "Nalyan                   1\n",
       "M.Com                    1\n",
       "ME                       1\n",
       "Rashi                    1\n",
       "Gaurav                   1\n",
       "Reyansh                  1\n",
       "Harsh                    1\n",
       "Vaanya                   1\n",
       "Mira                     1\n",
       "Less than 5 Kalyan       1\n",
       "3.0                      1\n",
       "Less Delhi               1\n",
       "M.Tech                   1\n",
       "Khaziabad                1\n",
       "Name: count, dtype: int64"
      ]
     },
     "execution_count": 17,
     "metadata": {},
     "output_type": "execute_result"
    }
   ],
   "source": [
    "# Colonne 'Ville'\n",
    "df['Ville'].value_counts()"
   ]
  },
  {
   "cell_type": "code",
   "execution_count": 18,
   "metadata": {},
   "outputs": [],
   "source": [
    "# Suppression des villes n'ayant que 1 ou 2 étudiants renseignés pour permettre un mapping pertinent\n",
    "df = df[df['Ville'].map(df['Ville'].value_counts()) > 2]"
   ]
  },
  {
   "cell_type": "markdown",
   "metadata": {},
   "source": [
    "#### **Colonne 'Temps de sommeil'**"
   ]
  },
  {
   "cell_type": "code",
   "execution_count": 19,
   "metadata": {},
   "outputs": [
    {
     "data": {
      "text/plain": [
       "array(['5-6 heures', 'Moins de 5 heures', '7-8 heures',\n",
       "       'Plus de 8 heures', 'Autre'], dtype=object)"
      ]
     },
     "execution_count": 19,
     "metadata": {},
     "output_type": "execute_result"
    }
   ],
   "source": [
    "df['Temps de sommeil'].unique() #Seulement 4 catégories + 'Others': on traduit les catégories et on drop les others"
   ]
  },
  {
   "cell_type": "code",
   "execution_count": 20,
   "metadata": {},
   "outputs": [
    {
     "data": {
      "text/plain": [
       "Temps de sommeil\n",
       "Moins de 5 heures    8295\n",
       "7-8 heures           7327\n",
       "5-6 heures           6169\n",
       "Plus de 8 heures     6032\n",
       "Autre                  18\n",
       "Name: count, dtype: int64"
      ]
     },
     "execution_count": 20,
     "metadata": {},
     "output_type": "execute_result"
    }
   ],
   "source": [
    "df['Temps de sommeil'].value_counts()"
   ]
  },
  {
   "cell_type": "code",
   "execution_count": 21,
   "metadata": {},
   "outputs": [],
   "source": [
    "# Suppression des 18 lignes 'Autre'\n",
    "df = df[df['Temps de sommeil'] != 'Autre']"
   ]
  },
  {
   "cell_type": "markdown",
   "metadata": {},
   "source": [
    "#### **Colonne 'Habitudes Alimentaires'**"
   ]
  },
  {
   "cell_type": "code",
   "execution_count": 22,
   "metadata": {},
   "outputs": [
    {
     "data": {
      "text/plain": [
       "Habitudes Alimentaires\n",
       "Mauvaises    10287\n",
       "Modérées      9897\n",
       "Saines        7627\n",
       "Autre           12\n",
       "Name: count, dtype: int64"
      ]
     },
     "execution_count": 22,
     "metadata": {},
     "output_type": "execute_result"
    }
   ],
   "source": [
    "df['Habitudes Alimentaires'].value_counts()"
   ]
  },
  {
   "cell_type": "code",
   "execution_count": 23,
   "metadata": {},
   "outputs": [],
   "source": [
    "# Suppression des 12 lignes 'Autre'\n",
    "df = df[df['Habitudes Alimentaires'] != 'Autre']"
   ]
  },
  {
   "cell_type": "markdown",
   "metadata": {},
   "source": [
    "#### **Colonne 'CGPA'**"
   ]
  },
  {
   "cell_type": "code",
   "execution_count": 24,
   "metadata": {},
   "outputs": [],
   "source": [
    "# Suppressoin de 9 lignes valeurs nulles\n",
    "df = df[df['CGPA'] > 0] "
   ]
  },
  {
   "cell_type": "markdown",
   "metadata": {},
   "source": [
    "### **Catégorisation de la colonne 'Degree'**"
   ]
  },
  {
   "cell_type": "code",
   "execution_count": 25,
   "metadata": {},
   "outputs": [
    {
     "data": {
      "text/plain": [
       "array(['B.Pharm', 'BSc', 'BA', 'BCA', 'M.Tech', 'PhD', 'Class 12', 'B.Ed',\n",
       "       'LLB', 'BE', 'M.Ed', 'MSc', 'BHM', 'M.Pharm', 'MCA', 'MA', 'B.Com',\n",
       "       'MD', 'MBA', 'MBBS', 'M.Com', 'B.Arch', 'LLM', 'B.Tech', 'BBA',\n",
       "       'ME', 'MHM', 'Others'], dtype=object)"
      ]
     },
     "execution_count": 25,
     "metadata": {},
     "output_type": "execute_result"
    }
   ],
   "source": [
    "# Valeurs uniques dans df['Degree']\n",
    "df['Degree'].unique()"
   ]
  },
  {
   "cell_type": "markdown",
   "metadata": {},
   "source": [
    "**Objectif :**\n",
    "- Regrouper les différents diplômes contenus dans la colonne `Degree` pour faciliter l'analyse."
   ]
  },
  {
   "cell_type": "markdown",
   "metadata": {},
   "source": [
    "**Méthodologie :**\n",
    "- La colonne `Degree` recueille les différents diplômes visés par les étudiants de l'enquête.\n",
    "- Un regroupement doit être fait par ***Niveau de diplôme***, afin de pouvoir filtrer et analyser plus facilement.\n",
    "- Création d'une colonne `Niveau d'Etude` puis suppression de la colonne `Degree`"
   ]
  },
  {
   "cell_type": "code",
   "execution_count": 26,
   "metadata": {},
   "outputs": [
    {
     "data": {
      "text/plain": [
       "35"
      ]
     },
     "execution_count": 26,
     "metadata": {},
     "output_type": "execute_result"
    }
   ],
   "source": [
    "# Diplomes 'Others'\n",
    "len(df[df['Degree'] == 'Others'])"
   ]
  },
  {
   "cell_type": "markdown",
   "metadata": {},
   "source": [
    "- Suppression de 35 lignes non pertinentes"
   ]
  },
  {
   "cell_type": "code",
   "execution_count": 27,
   "metadata": {},
   "outputs": [],
   "source": [
    "df = df[df['Degree'] != 'Others']"
   ]
  },
  {
   "cell_type": "markdown",
   "metadata": {},
   "source": [
    "#### **Description des diplomes de la colonne `Degree`**\n",
    "\n",
    "**Diplômes de premier cycle (Undergraduate):**\n",
    "\n",
    "- B.Pharm - Bachelor of Pharmacy : Diplôme en pharmacie.\n",
    "- BSc - Bachelor of Science : Diplôme en sciences générales ou spécialisées.\n",
    "- BA - Bachelor of Arts : Diplôme en sciences humaines et sociales.\n",
    "- BCA - Bachelor of Computer Applications : Diplôme en informatique.\n",
    "- B.Ed - Bachelor of Education : Diplôme en pédagogie/enseignement.\n",
    "- BE - Bachelor of Engineering : Diplôme en ingénierie.\n",
    "- BHM - Bachelor of Hotel Management : Diplôme en gestion hôtelière.\n",
    "- B.Com - Bachelor of Commerce : Diplôme en commerce et comptabilité.\n",
    "- B.Arch - Bachelor of Architecture : Diplôme en architecture.\n",
    "- B.Tech - Bachelor of Technology : Diplôme technique et d'ingénierie.\n",
    "- BBA - Bachelor of Business Administration : Diplôme en gestion d’entreprise.\n",
    "\n",
    "**Diplômes de deuxième cycle (Postgraduate):**\n",
    "\n",
    "- M.Tech - Master of Technology : Diplôme avancé en technologie.\n",
    "- M.Ed - Master of Education : Diplôme en enseignement avancé.\n",
    "- MSc - Master of Science : Diplôme de maîtrise en sciences.\n",
    "- M.Pharm - Master of Pharmacy : Diplôme avancé en pharmacie.\n",
    "- MCA - Master of Computer Applications : Diplôme de maîtrise en informatique.\n",
    "- MA - Master of Arts : Diplôme de maîtrise en sciences humaines.\n",
    "- MBA - Master of Business Administration : Diplôme de maîtrise en gestion.\n",
    "- M.Com - Master of Commerce : Diplôme de maîtrise en commerce.\n",
    "- ME - Master of Engineering : Diplôme de maîtrise en ingénierie.\n",
    "- MHM - Master of Hotel Management : Diplôme avancé en gestion hôtelière.\n",
    "\n",
    "**Autres diplômes professionnels ou académiques :**\n",
    "\n",
    "- PhD - Doctor of Philosophy : Doctorat dans un domaine spécifique.\n",
    "- LLB - Bachelor of Laws : Diplôme en droit.\n",
    "- LLM - Master of Laws : Diplôme de maîtrise en droit.\n",
    "- MD - Doctor of Medicine : Diplôme médical avancé.\n",
    "- MBBS - Bachelor of Medicine, Bachelor of Surgery : Diplôme de base en médecine.\n",
    "- Class 12 - Equivalent du baccalauréat (niveau pré-universitaire)."
   ]
  },
  {
   "cell_type": "markdown",
   "id": "78969247",
   "metadata": {},
   "source": [
    "#### **Catégorisation des diplômes**"
   ]
  },
  {
   "cell_type": "code",
   "execution_count": 28,
   "metadata": {},
   "outputs": [],
   "source": [
    "#Les 'Degrees' peuvent être regroupés en niveau d'étude comme suit:\n",
    "bachelors = ['BSc', 'BA', 'BCA', 'BE', 'BTech', 'B.Pharm', 'B.Ed', 'B.Com', 'B.Arch', 'BHM', 'BBA', 'Class 12', 'LLB', 'MBBS', \"B.Tech\"]\n",
    "masters = [\"MSc\", \"MA\", \"MCA\", \"MBA\", \"MTech\", \"ME\", \"M.Ed\", \"M.Com\", \"M.Pharm\", \"MHM\", \"LLM\", \"M.Tech\"]\n",
    "doctors = [\"PhD\", \"MD\"]\n",
    "\n",
    "#Fonction pour nouvelle colonne:\n",
    "def niv_etude(x):\n",
    "    if x in bachelors:\n",
    "        return 'Bachelor'\n",
    "    elif x in masters:\n",
    "        return 'Master'\n",
    "    elif x in doctors:\n",
    "        return 'Doctorat'"
   ]
  },
  {
   "cell_type": "code",
   "execution_count": 29,
   "metadata": {},
   "outputs": [],
   "source": [
    "# Création de la colonne 'Niveau d'étude':\n",
    "df['Niveau étude'] = df['Degree'].apply(niv_etude)"
   ]
  },
  {
   "cell_type": "code",
   "execution_count": 30,
   "metadata": {},
   "outputs": [
    {
     "data": {
      "text/plain": [
       "Niveau étude\n",
       "Bachelor    19352\n",
       "Master       7328\n",
       "Doctorat     1087\n",
       "Name: count, dtype: int64"
      ]
     },
     "execution_count": 30,
     "metadata": {},
     "output_type": "execute_result"
    }
   ],
   "source": [
    "df['Niveau étude'].value_counts()"
   ]
  },
  {
   "cell_type": "code",
   "execution_count": 31,
   "metadata": {},
   "outputs": [],
   "source": [
    "# Suppression de la colonne 'Degree' inutile\n",
    "df = df.drop('Degree', axis = 1)"
   ]
  },
  {
   "cell_type": "markdown",
   "metadata": {},
   "source": [
    "### **Colonnes Booléennes**"
   ]
  },
  {
   "cell_type": "markdown",
   "metadata": {},
   "source": [
    "**Objectif :**\n",
    "- Transformer les colonnes possédant seulement 2 valeurs uniques (Yes ou No) en booléen pour préparer le machine learning."
   ]
  },
  {
   "cell_type": "markdown",
   "id": "9ef91d17",
   "metadata": {},
   "source": [
    "#### **Colonne 'Pensées Suicidaires'**"
   ]
  },
  {
   "cell_type": "code",
   "execution_count": 32,
   "metadata": {},
   "outputs": [
    {
     "data": {
      "text/plain": [
       "array(['Yes', 'No'], dtype=object)"
      ]
     },
     "execution_count": 32,
     "metadata": {},
     "output_type": "execute_result"
    }
   ],
   "source": [
    "df['Pensées Suicidaires'].unique()"
   ]
  },
  {
   "cell_type": "code",
   "execution_count": 33,
   "metadata": {},
   "outputs": [],
   "source": [
    "df['Pensées Suicidaires'] = df['Pensées Suicidaires'].apply(lambda x : True if x == 'Yes' else False)"
   ]
  },
  {
   "cell_type": "markdown",
   "id": "532afcdd",
   "metadata": {},
   "source": [
    "#### **Colonne 'Pensées Suicidaires'**"
   ]
  },
  {
   "cell_type": "code",
   "execution_count": 34,
   "metadata": {},
   "outputs": [
    {
     "data": {
      "text/plain": [
       "array(['No', 'Yes'], dtype=object)"
      ]
     },
     "execution_count": 34,
     "metadata": {},
     "output_type": "execute_result"
    }
   ],
   "source": [
    "df['Antécédents familiaux mentaux'].unique()"
   ]
  },
  {
   "cell_type": "code",
   "execution_count": 35,
   "metadata": {},
   "outputs": [],
   "source": [
    "\n",
    "df['Antécédents familiaux mentaux'] = df['Antécédents familiaux mentaux'].apply(lambda x : True if x == 'Yes' else False)"
   ]
  },
  {
   "cell_type": "markdown",
   "id": "e746fdff",
   "metadata": {},
   "source": [
    "### **Finalisation du DataFrame et Exportation**"
   ]
  },
  {
   "cell_type": "code",
   "execution_count": 36,
   "metadata": {},
   "outputs": [],
   "source": [
    "#Réorganisation des colonnes\n",
    "df = df[['Genre', 'Age', 'Ville', 'Niveau étude', 'Pression Académique', 'CGPA', 'Satisfaction Académique', 'Temps de sommeil', 'Habitudes Alimentaires',\n",
    "       'Pensées Suicidaires', 'Temps études/jour(heures)', 'Stress Financier', 'Antécédents familiaux mentaux', 'Dépression']]"
   ]
  },
  {
   "cell_type": "code",
   "execution_count": 37,
   "metadata": {},
   "outputs": [],
   "source": [
    "df = df.reset_index().drop('index', axis = 1)"
   ]
  },
  {
   "cell_type": "code",
   "execution_count": 38,
   "metadata": {},
   "outputs": [
    {
     "name": "stdout",
     "output_type": "stream",
     "text": [
      "<class 'pandas.core.frame.DataFrame'>\n",
      "RangeIndex: 27767 entries, 0 to 27766\n",
      "Data columns (total 14 columns):\n",
      " #   Column                         Non-Null Count  Dtype  \n",
      "---  ------                         --------------  -----  \n",
      " 0   Genre                          27767 non-null  object \n",
      " 1   Age                            27767 non-null  int32  \n",
      " 2   Ville                          27767 non-null  object \n",
      " 3   Niveau étude                   27767 non-null  object \n",
      " 4   Pression Académique            27767 non-null  int32  \n",
      " 5   CGPA                           27767 non-null  float64\n",
      " 6   Satisfaction Académique        27767 non-null  int32  \n",
      " 7   Temps de sommeil               27767 non-null  object \n",
      " 8   Habitudes Alimentaires         27767 non-null  object \n",
      " 9   Pensées Suicidaires            27767 non-null  bool   \n",
      " 10  Temps études/jour(heures)      27767 non-null  int32  \n",
      " 11  Stress Financier               27767 non-null  int32  \n",
      " 12  Antécédents familiaux mentaux  27767 non-null  bool   \n",
      " 13  Dépression                     27767 non-null  int64  \n",
      "dtypes: bool(2), float64(1), int32(5), int64(1), object(5)\n",
      "memory usage: 2.1+ MB\n"
     ]
    }
   ],
   "source": [
    "df.info()"
   ]
  },
  {
   "cell_type": "code",
   "execution_count": 170,
   "metadata": {},
   "outputs": [],
   "source": [
    "df.to_csv('../donnees/nettoyees/student_depression_dataset_nettoyees.csv', index = False)"
   ]
  },
  {
   "cell_type": "markdown",
   "metadata": {},
   "source": [
    "**Conclusion**\n",
    "- Le DataFrame nettoyé peut maintenant être utilisé pour l'analyse exploratoire et le machine learning."
   ]
  },
  {
   "cell_type": "markdown",
   "metadata": {},
   "source": [
    "### **BONUS : Incorporation des coordonnées géographiques pour mapping**"
   ]
  },
  {
   "cell_type": "code",
   "execution_count": 40,
   "metadata": {},
   "outputs": [],
   "source": [
    "# import du df_ville\n",
    "df_ville = pd.read_csv(\"../donnees/nettoyees/coordonnees_ville_inde.csv\")"
   ]
  },
  {
   "cell_type": "code",
   "execution_count": 41,
   "metadata": {},
   "outputs": [
    {
     "data": {
      "text/html": [
       "<div>\n",
       "<style scoped>\n",
       "    .dataframe tbody tr th:only-of-type {\n",
       "        vertical-align: middle;\n",
       "    }\n",
       "\n",
       "    .dataframe tbody tr th {\n",
       "        vertical-align: top;\n",
       "    }\n",
       "\n",
       "    .dataframe thead th {\n",
       "        text-align: right;\n",
       "    }\n",
       "</style>\n",
       "<table border=\"1\" class=\"dataframe\">\n",
       "  <thead>\n",
       "    <tr style=\"text-align: right;\">\n",
       "      <th></th>\n",
       "      <th>Ville</th>\n",
       "      <th>Etat</th>\n",
       "      <th>Population</th>\n",
       "      <th>Latitude</th>\n",
       "      <th>Longitude</th>\n",
       "    </tr>\n",
       "  </thead>\n",
       "  <tbody>\n",
       "    <tr>\n",
       "      <th>0</th>\n",
       "      <td>Agra</td>\n",
       "      <td>Uttar Pradesh</td>\n",
       "      <td>1585704</td>\n",
       "      <td>27.1800</td>\n",
       "      <td>78.0100</td>\n",
       "    </tr>\n",
       "    <tr>\n",
       "      <th>1</th>\n",
       "      <td>Ahmedabad</td>\n",
       "      <td>Gujarat</td>\n",
       "      <td>5577940</td>\n",
       "      <td>23.0300</td>\n",
       "      <td>72.5800</td>\n",
       "    </tr>\n",
       "    <tr>\n",
       "      <th>2</th>\n",
       "      <td>Bangalore</td>\n",
       "      <td>Karnataka</td>\n",
       "      <td>15386000</td>\n",
       "      <td>12.9789</td>\n",
       "      <td>77.5917</td>\n",
       "    </tr>\n",
       "    <tr>\n",
       "      <th>3</th>\n",
       "      <td>Bhopal</td>\n",
       "      <td>Madhya Pradesh</td>\n",
       "      <td>1798218</td>\n",
       "      <td>23.2600</td>\n",
       "      <td>77.4100</td>\n",
       "    </tr>\n",
       "    <tr>\n",
       "      <th>4</th>\n",
       "      <td>Chennai</td>\n",
       "      <td>Tamil Nadu</td>\n",
       "      <td>4646732</td>\n",
       "      <td>13.0700</td>\n",
       "      <td>80.2400</td>\n",
       "    </tr>\n",
       "  </tbody>\n",
       "</table>\n",
       "</div>"
      ],
      "text/plain": [
       "       Ville            Etat  Population  Latitude  Longitude\n",
       "0       Agra   Uttar Pradesh     1585704   27.1800    78.0100\n",
       "1  Ahmedabad         Gujarat     5577940   23.0300    72.5800\n",
       "2  Bangalore       Karnataka    15386000   12.9789    77.5917\n",
       "3     Bhopal  Madhya Pradesh     1798218   23.2600    77.4100\n",
       "4    Chennai      Tamil Nadu     4646732   13.0700    80.2400"
      ]
     },
     "execution_count": 41,
     "metadata": {},
     "output_type": "execute_result"
    }
   ],
   "source": [
    "df_ville.head()"
   ]
  },
  {
   "cell_type": "code",
   "execution_count": 43,
   "metadata": {},
   "outputs": [],
   "source": [
    "# Merger les datasets sur la colonne 'Ville'\n",
    "df_kpi = pd.merge(df, df_ville, how='left', left_on='Ville', right_on='Ville')"
   ]
  },
  {
   "cell_type": "code",
   "execution_count": 44,
   "metadata": {},
   "outputs": [
    {
     "data": {
      "text/html": [
       "<div>\n",
       "<style scoped>\n",
       "    .dataframe tbody tr th:only-of-type {\n",
       "        vertical-align: middle;\n",
       "    }\n",
       "\n",
       "    .dataframe tbody tr th {\n",
       "        vertical-align: top;\n",
       "    }\n",
       "\n",
       "    .dataframe thead th {\n",
       "        text-align: right;\n",
       "    }\n",
       "</style>\n",
       "<table border=\"1\" class=\"dataframe\">\n",
       "  <thead>\n",
       "    <tr style=\"text-align: right;\">\n",
       "      <th></th>\n",
       "      <th>Genre</th>\n",
       "      <th>Age</th>\n",
       "      <th>Ville</th>\n",
       "      <th>Niveau étude</th>\n",
       "      <th>Pression Académique</th>\n",
       "      <th>CGPA</th>\n",
       "      <th>Satisfaction Académique</th>\n",
       "      <th>Temps de sommeil</th>\n",
       "      <th>Habitudes Alimentaires</th>\n",
       "      <th>Pensées Suicidaires</th>\n",
       "      <th>Temps études/jour(heures)</th>\n",
       "      <th>Stress Financier</th>\n",
       "      <th>Antécédents familiaux mentaux</th>\n",
       "      <th>Dépression</th>\n",
       "      <th>Etat</th>\n",
       "      <th>Population</th>\n",
       "      <th>Latitude</th>\n",
       "      <th>Longitude</th>\n",
       "    </tr>\n",
       "  </thead>\n",
       "  <tbody>\n",
       "    <tr>\n",
       "      <th>0</th>\n",
       "      <td>Homme</td>\n",
       "      <td>33</td>\n",
       "      <td>Visakhapatnam</td>\n",
       "      <td>Bachelor</td>\n",
       "      <td>5</td>\n",
       "      <td>8.97</td>\n",
       "      <td>2</td>\n",
       "      <td>5-6 heures</td>\n",
       "      <td>Saines</td>\n",
       "      <td>True</td>\n",
       "      <td>3</td>\n",
       "      <td>1</td>\n",
       "      <td>False</td>\n",
       "      <td>1</td>\n",
       "      <td>Andhra Pradesh</td>\n",
       "      <td>969608</td>\n",
       "      <td>17.7000</td>\n",
       "      <td>83.2500</td>\n",
       "    </tr>\n",
       "    <tr>\n",
       "      <th>1</th>\n",
       "      <td>Femme</td>\n",
       "      <td>24</td>\n",
       "      <td>Bangalore</td>\n",
       "      <td>Bachelor</td>\n",
       "      <td>2</td>\n",
       "      <td>5.90</td>\n",
       "      <td>5</td>\n",
       "      <td>5-6 heures</td>\n",
       "      <td>Modérées</td>\n",
       "      <td>False</td>\n",
       "      <td>3</td>\n",
       "      <td>2</td>\n",
       "      <td>True</td>\n",
       "      <td>0</td>\n",
       "      <td>Karnataka</td>\n",
       "      <td>15386000</td>\n",
       "      <td>12.9789</td>\n",
       "      <td>77.5917</td>\n",
       "    </tr>\n",
       "    <tr>\n",
       "      <th>2</th>\n",
       "      <td>Homme</td>\n",
       "      <td>31</td>\n",
       "      <td>Srinagar</td>\n",
       "      <td>Bachelor</td>\n",
       "      <td>3</td>\n",
       "      <td>7.03</td>\n",
       "      <td>5</td>\n",
       "      <td>Moins de 5 heures</td>\n",
       "      <td>Saines</td>\n",
       "      <td>False</td>\n",
       "      <td>9</td>\n",
       "      <td>1</td>\n",
       "      <td>True</td>\n",
       "      <td>0</td>\n",
       "      <td>Jammu &amp; Kashmir</td>\n",
       "      <td>1180570</td>\n",
       "      <td>34.0800</td>\n",
       "      <td>74.8000</td>\n",
       "    </tr>\n",
       "    <tr>\n",
       "      <th>3</th>\n",
       "      <td>Femme</td>\n",
       "      <td>28</td>\n",
       "      <td>Varanasi</td>\n",
       "      <td>Bachelor</td>\n",
       "      <td>3</td>\n",
       "      <td>5.59</td>\n",
       "      <td>2</td>\n",
       "      <td>7-8 heures</td>\n",
       "      <td>Modérées</td>\n",
       "      <td>True</td>\n",
       "      <td>4</td>\n",
       "      <td>5</td>\n",
       "      <td>True</td>\n",
       "      <td>1</td>\n",
       "      <td>Uttar Pradesh</td>\n",
       "      <td>1198491</td>\n",
       "      <td>25.3200</td>\n",
       "      <td>82.9900</td>\n",
       "    </tr>\n",
       "    <tr>\n",
       "      <th>4</th>\n",
       "      <td>Femme</td>\n",
       "      <td>25</td>\n",
       "      <td>Jaipur</td>\n",
       "      <td>Master</td>\n",
       "      <td>4</td>\n",
       "      <td>8.13</td>\n",
       "      <td>3</td>\n",
       "      <td>5-6 heures</td>\n",
       "      <td>Modérées</td>\n",
       "      <td>True</td>\n",
       "      <td>1</td>\n",
       "      <td>1</td>\n",
       "      <td>False</td>\n",
       "      <td>0</td>\n",
       "      <td>Rajasthan</td>\n",
       "      <td>3073350</td>\n",
       "      <td>26.9200</td>\n",
       "      <td>75.7800</td>\n",
       "    </tr>\n",
       "  </tbody>\n",
       "</table>\n",
       "</div>"
      ],
      "text/plain": [
       "   Genre  Age          Ville Niveau étude  Pression Académique  CGPA  \\\n",
       "0  Homme   33  Visakhapatnam     Bachelor                    5  8.97   \n",
       "1  Femme   24      Bangalore     Bachelor                    2  5.90   \n",
       "2  Homme   31       Srinagar     Bachelor                    3  7.03   \n",
       "3  Femme   28       Varanasi     Bachelor                    3  5.59   \n",
       "4  Femme   25         Jaipur       Master                    4  8.13   \n",
       "\n",
       "   Satisfaction Académique   Temps de sommeil Habitudes Alimentaires  \\\n",
       "0                        2         5-6 heures                 Saines   \n",
       "1                        5         5-6 heures               Modérées   \n",
       "2                        5  Moins de 5 heures                 Saines   \n",
       "3                        2         7-8 heures               Modérées   \n",
       "4                        3         5-6 heures               Modérées   \n",
       "\n",
       "   Pensées Suicidaires  Temps études/jour(heures)  Stress Financier  \\\n",
       "0                 True                          3                 1   \n",
       "1                False                          3                 2   \n",
       "2                False                          9                 1   \n",
       "3                 True                          4                 5   \n",
       "4                 True                          1                 1   \n",
       "\n",
       "   Antécédents familiaux mentaux  Dépression             Etat  Population  \\\n",
       "0                          False           1   Andhra Pradesh      969608   \n",
       "1                           True           0        Karnataka    15386000   \n",
       "2                           True           0  Jammu & Kashmir     1180570   \n",
       "3                           True           1    Uttar Pradesh     1198491   \n",
       "4                          False           0        Rajasthan     3073350   \n",
       "\n",
       "   Latitude  Longitude  \n",
       "0   17.7000    83.2500  \n",
       "1   12.9789    77.5917  \n",
       "2   34.0800    74.8000  \n",
       "3   25.3200    82.9900  \n",
       "4   26.9200    75.7800  "
      ]
     },
     "execution_count": 44,
     "metadata": {},
     "output_type": "execute_result"
    }
   ],
   "source": [
    "df_kpi.head()"
   ]
  },
  {
   "cell_type": "code",
   "execution_count": 45,
   "metadata": {},
   "outputs": [
    {
     "data": {
      "text/plain": [
       "Genre                            0\n",
       "Age                              0\n",
       "Ville                            0\n",
       "Niveau étude                     0\n",
       "Pression Académique              0\n",
       "CGPA                             0\n",
       "Satisfaction Académique          0\n",
       "Temps de sommeil                 0\n",
       "Habitudes Alimentaires           0\n",
       "Pensées Suicidaires              0\n",
       "Temps études/jour(heures)        0\n",
       "Stress Financier                 0\n",
       "Antécédents familiaux mentaux    0\n",
       "Dépression                       0\n",
       "Etat                             0\n",
       "Population                       0\n",
       "Latitude                         0\n",
       "Longitude                        0\n",
       "dtype: int64"
      ]
     },
     "execution_count": 45,
     "metadata": {},
     "output_type": "execute_result"
    }
   ],
   "source": [
    "df_kpi.isnull().sum()"
   ]
  },
  {
   "cell_type": "code",
   "execution_count": 46,
   "metadata": {},
   "outputs": [
    {
     "name": "stdout",
     "output_type": "stream",
     "text": [
      "<class 'pandas.core.frame.DataFrame'>\n",
      "RangeIndex: 27767 entries, 0 to 27766\n",
      "Data columns (total 18 columns):\n",
      " #   Column                         Non-Null Count  Dtype  \n",
      "---  ------                         --------------  -----  \n",
      " 0   Genre                          27767 non-null  object \n",
      " 1   Age                            27767 non-null  int32  \n",
      " 2   Ville                          27767 non-null  object \n",
      " 3   Niveau étude                   27767 non-null  object \n",
      " 4   Pression Académique            27767 non-null  int32  \n",
      " 5   CGPA                           27767 non-null  float64\n",
      " 6   Satisfaction Académique        27767 non-null  int32  \n",
      " 7   Temps de sommeil               27767 non-null  object \n",
      " 8   Habitudes Alimentaires         27767 non-null  object \n",
      " 9   Pensées Suicidaires            27767 non-null  bool   \n",
      " 10  Temps études/jour(heures)      27767 non-null  int32  \n",
      " 11  Stress Financier               27767 non-null  int32  \n",
      " 12  Antécédents familiaux mentaux  27767 non-null  bool   \n",
      " 13  Dépression                     27767 non-null  int64  \n",
      " 14  Etat                           27767 non-null  object \n",
      " 15  Population                     27767 non-null  int64  \n",
      " 16  Latitude                       27767 non-null  float64\n",
      " 17  Longitude                      27767 non-null  float64\n",
      "dtypes: bool(2), float64(3), int32(5), int64(2), object(6)\n",
      "memory usage: 2.9+ MB\n"
     ]
    }
   ],
   "source": [
    "df_kpi.info()"
   ]
  },
  {
   "cell_type": "code",
   "execution_count": 47,
   "metadata": {},
   "outputs": [],
   "source": [
    "# Export de df_kpi\n",
    "df_kpi.to_csv('../donnees/nettoyees/df_kpi_final.csv', index=False)"
   ]
  }
 ],
 "metadata": {
  "kernelspec": {
   "display_name": "base",
   "language": "python",
   "name": "python3"
  },
  "language_info": {
   "codemirror_mode": {
    "name": "ipython",
    "version": 3
   },
   "file_extension": ".py",
   "mimetype": "text/x-python",
   "name": "python",
   "nbconvert_exporter": "python",
   "pygments_lexer": "ipython3",
   "version": "3.12.4"
  }
 },
 "nbformat": 4,
 "nbformat_minor": 2
}
